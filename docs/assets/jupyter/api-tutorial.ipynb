{
 "cells": [
  {
   "cell_type": "markdown",
   "id": "ad4e60b6",
   "metadata": {
    "tags": []
   },
   "source": [
    "# Tutorial: Learn the basics of the Druid API\n",
    "\n",
    "<!--\n",
    "  ~ Licensed to the Apache Software Foundation (ASF) under one\n",
    "  ~ or more contributor license agreements.  See the NOTICE file\n",
    "  ~ distributed with this work for additional information\n",
    "  ~ regarding copyright ownership.  The ASF licenses this file\n",
    "  ~ to you under the Apache License, Version 2.0 (the\n",
    "  ~ \"License\"); you may not use this file except in compliance\n",
    "  ~ with the License.  You may obtain a copy of the License at\n",
    "  ~\n",
    "  ~   http://www.apache.org/licenses/LICENSE-2.0\n",
    "  ~\n",
    "  ~ Unless required by applicable law or agreed to in writing,\n",
    "  ~ software distributed under the License is distributed on an\n",
    "  ~ \"AS IS\" BASIS, WITHOUT WARRANTIES OR CONDITIONS OF ANY\n",
    "  ~ KIND, either express or implied.  See the License for the\n",
    "  ~ specific language governing permissions and limitations\n",
    "  ~ under the License.\n",
    "  -->\n",
    "  \n",
    "This tutorial introduces you to the basics of the Druid API and some of the endpoints you might use frequently, including the following tasks:\n",
    "\n",
    "- Checking if your cluster is up\n",
    "- Ingesting data\n",
    "- Querying data\n",
    "- Deleting data\n",
    "\n",
    "In a Druid deployment, you have [Mastery, Query, and Data servers](https://druid.apache.org/docs/latest/design/processes.html#server-types) that all fulfill different purposes. The endpoint you use for a certain action is determined, partially, by which server governs that part of Druid and the processes that run on that server type. That's why the [API reference](https://druid.apache.org/docs/latest/operations/api-reference.html#historical) is organized by server type and process.\n",
    "\n",
    "## Table of contents\n",
    "\n",
    "- [Before you start](#Before-you-start)\n",
    "- [Get basic cluster information](#Get-basic-cluster-information)\n",
    "- [Ingest data](#Ingest-data)\n",
    "- [Query your data](#Query-your-data)\n",
    "- [Manage your data](#Manage-your-data)\n",
    "- [Next steps](#Next-steps)\n",
    "\n",
    "For the best experience, use Jupyter Lab so that you can always access the table of contents."
   ]
  },
  {
   "cell_type": "markdown",
   "id": "8d6bbbcb",
   "metadata": {},
   "source": [
    "## Before you start\n",
    "\n",
    "You'll need install the Requests library for Python before you start. For example:\n",
    "\n",
    "```bash\n",
    "pip3 install requests\n",
    "```\n",
    "\n",
    "Next, you'll need a Druid cluster. This tutorial uses the `micro-quickstart` config described in the [Druid quickstart](https://druid.apache.org/docs/latest/tutorials/index.html). So download that and start it if you haven't already. In the root of the Druid folder, run the following command to start Druid:\n",
    "\n",
    "```bash\n",
    "./bin/start-micro-quickstart\n",
    "```\n",
    "\n",
    "Both the quickstart Druid cluster and Jupyter notebook are deployed at `localhost:8888` by default, so you'll \n",
    "need to change the port for Jupyter. To do so, stop Jupyter and start it again with the `port` parameter included. For example, you can use the following command to start Jupyter on port `3001`:\n",
    "\n",
    "```bash\n",
    "# If you're using Jupyter lab\n",
    "jupyter lab --port 3001\n",
    "# If you're using Jupyter notebook\n",
    "jupyter notebook --port 3001 \n",
    "```\n",
    "\n",
    "To start this tutorial, run the next cell. It imports the Python packages you'll need and defines a variable for the the Druid host the tutorial uses. The quickstart deployment configures Druid to listen on port `8888` by default, so you'll be making API calls against `http://localhost:8888`. "
   ]
  },
  {
   "cell_type": "code",
   "execution_count": 5,
   "id": "b7f08a52",
   "metadata": {},
   "outputs": [
    {
     "name": "stdout",
     "output_type": "stream",
     "text": [
      "http://localhost:8888\n"
     ]
    }
   ],
   "source": [
    "import requests\n",
    "import json\n",
    "\n",
    "# druid_host is the hostname and port for your Druid deployment. \n",
    "druid_host = \"http://localhost:8888\"\n",
    "dataSourceName = \"wikipedia-api\"\n",
    "print(druid_host)"
   ]
  },
  {
   "cell_type": "markdown",
   "id": "2093ecf0-fb4b-405b-a216-094583580e0a",
   "metadata": {},
   "source": [
    "In the rest of this tutorial, the `endpoint`, `http_method`, and `payload` variables are updated in code cells to call a different Druid endpoint to accomplish a task."
   ]
  },
  {
   "cell_type": "markdown",
   "id": "29c24856",
   "metadata": {},
   "source": [
    "## Get basic cluster information\n",
    "\n",
    "In this cell, you'll use the `GET /status` API to return basic information about your cluster, such as the Druid version, loaded extensions, and resource consumption.\n",
    "\n",
    "The following cell sets `endpoint` to `/status` and updates the HTTP method to `GET`. When you run the cell, you should get a response that starts with the version number of your Druid deployment."
   ]
  },
  {
   "cell_type": "code",
   "execution_count": null,
   "id": "baa140b8",
   "metadata": {},
   "outputs": [],
   "source": [
    "endpoint = \"/status\"\n",
    "print(druid_host+endpoint)\n",
    "http_method = \"GET\"\n",
    "\n",
    "payload = {}\n",
    "headers = {}\n",
    "\n",
    "response = requests.request(http_method, druid_host+endpoint, headers=headers, data=payload)\n",
    "print(json.dumps(json.loads(response.text), indent=4))"
   ]
  },
  {
   "cell_type": "markdown",
   "id": "cbeb5a63",
   "metadata": {},
   "source": [
    "### Get cluster health\n",
    "\n",
    "The `/status/health` returns `true` if your cluster is up and running. It's useful if you want to do something like programmatically check if your cluster is available. When you run the following cell, you should get `true` if your Druid cluster has finished starting up and is running."
   ]
  },
  {
   "cell_type": "code",
   "execution_count": 5,
   "id": "5e51170e",
   "metadata": {},
   "outputs": [
    {
     "name": "stdout",
     "output_type": "stream",
     "text": [
      "http://localhost:8888/status/health\n",
      "true\n"
     ]
    }
   ],
   "source": [
    "# GET \n",
    "endpoint = \"/status/health\"\n",
    "print(druid_host+endpoint)\n",
    "http_method = \"GET\"\n",
    "\n",
    "payload = {}\n",
    "headers = {}\n",
    "\n",
    "response = requests.request(http_method, druid_host+endpoint, headers=headers, data=payload)\n",
    "\n",
    "print(response.text)"
   ]
  },
  {
   "cell_type": "markdown",
   "id": "1de51db8-4c51-4b7e-bb3b-734ff15c8ab3",
   "metadata": {},
   "source": [
    "## Ingest data\n",
    "\n",
    "Now that you've confirmed that your cluster is up and running, you can start ingesting data. There are different ways to ingest data based on what your needs are. For more information, see [Ingestion methods](https://druid.apache.org/docs/latest/ingestion/index.html#ingestion-methods).\n",
    "\n",
    "This tutorial uses the multi-stage query (MSQ) task engine and its `sql/task` endpoint to perform SQL-based ingestion. The `/sql/task` endpoint accepts [SQL requests in the JSON-over-HTTP format](https://druid.apache.org/docs/latest/querying/sql-api.html#request-body) using the query, context, and parameters fields\n",
    "\n",
    "To learn more about SQL-based ingestion, see [SQL-based ingestion](https://druid.apache.org/docs/latest/multi-stage-query/index.html). For information about the endpoint specifically, see [SQL-based ingestion and multi-stage query task API](https://druid.apache.org/docs/latest/multi-stage-query/api.html).\n",
    "\n",
    "\n",
    "The next cell does the following:\n",
    "\n",
    "- Includes a payload that inserts data from an external source into a table named wikipedia-api. The payload is in JSON format and included in the code directly. You can also store it in a file and provide the file. \n",
    "- Saves the response to a unique variable that you can reference later to identify this ingestion task\n",
    "\n",
    "The example uses INSERT, but you could also use REPLACE. \n",
    "\n",
    "For the MSQ task engine, ingesting data is done through a task, so the response includes a `taskId` and `state` for your ingestion. You can use this `taskId` to reference this task later on to get more information about it."
   ]
  },
  {
   "cell_type": "code",
   "execution_count": 73,
   "id": "362b6a87",
   "metadata": {},
   "outputs": [
    {
     "name": "stdout",
     "output_type": "stream",
     "text": [
      "http://localhost:8888/druid/v2/sql/task\n",
      "{\"taskId\":\"query-73f5ab42-5e85-4dd2-a03f-5b939846d624\",\"state\":\"RUNNING\"}\n",
      "Inserting data into the table named wikipedia.\n"
     ]
    }
   ],
   "source": [
    "endpoint = \"/druid/v2/sql/task\"\n",
    "print(druid_host+endpoint)\n",
    "http_method = \"POST\"\n",
    "\n",
    "\n",
    "payload = json.dumps({\n",
    "  \"query\": \"INSERT INTO wikipedia-api\\nSELECT\\n  TIME_PARSE(\\\"timestamp\\\") AS __time,\\n  *\\nFROM TABLE(\\n  EXTERN(\\n    '{\\\"type\\\": \\\"http\\\", \\\"uris\\\": [\\\"https://druid.apache.org/data/wikipedia-api.json.gz\\\"]}',\\n    '{\\\"type\\\": \\\"json\\\"}',\\n    '[{\\\"name\\\": \\\"added\\\", \\\"type\\\": \\\"long\\\"}, {\\\"name\\\": \\\"channel\\\", \\\"type\\\": \\\"string\\\"}, {\\\"name\\\": \\\"cityName\\\", \\\"type\\\": \\\"string\\\"}, {\\\"name\\\": \\\"comment\\\", \\\"type\\\": \\\"string\\\"}, {\\\"name\\\": \\\"commentLength\\\", \\\"type\\\": \\\"long\\\"}, {\\\"name\\\": \\\"countryIsoCode\\\", \\\"type\\\": \\\"string\\\"}, {\\\"name\\\": \\\"countryName\\\", \\\"type\\\": \\\"string\\\"}, {\\\"name\\\": \\\"deleted\\\", \\\"type\\\": \\\"long\\\"}, {\\\"name\\\": \\\"delta\\\", \\\"type\\\": \\\"long\\\"}, {\\\"name\\\": \\\"deltaBucket\\\", \\\"type\\\": \\\"string\\\"}, {\\\"name\\\": \\\"diffdruid_host\\\", \\\"type\\\": \\\"string\\\"}, {\\\"name\\\": \\\"flags\\\", \\\"type\\\": \\\"string\\\"}, {\\\"name\\\": \\\"isAnonymous\\\", \\\"type\\\": \\\"string\\\"}, {\\\"name\\\": \\\"isMinor\\\", \\\"type\\\": \\\"string\\\"}, {\\\"name\\\": \\\"isNew\\\", \\\"type\\\": \\\"string\\\"}, {\\\"name\\\": \\\"isRobot\\\", \\\"type\\\": \\\"string\\\"}, {\\\"name\\\": \\\"isUnpatrolled\\\", \\\"type\\\": \\\"string\\\"}, {\\\"name\\\": \\\"metroCode\\\", \\\"type\\\": \\\"string\\\"}, {\\\"name\\\": \\\"namespace\\\", \\\"type\\\": \\\"string\\\"}, {\\\"name\\\": \\\"page\\\", \\\"type\\\": \\\"string\\\"}, {\\\"name\\\": \\\"regionIsoCode\\\", \\\"type\\\": \\\"string\\\"}, {\\\"name\\\": \\\"regionName\\\", \\\"type\\\": \\\"string\\\"}, {\\\"name\\\": \\\"timestamp\\\", \\\"type\\\": \\\"string\\\"}, {\\\"name\\\": \\\"user\\\", \\\"type\\\": \\\"string\\\"}]'\\n  )\\n)\\nPARTITIONED BY DAY\",\n",
    "  \"context\": {\n",
    "    \"maxNumTasks\": 3\n",
    "  }\n",
    "})\n",
    "\n",
    "headers = {'Content-Type': 'application/json'}\n",
    "\n",
    "response = requests.request(http_method, druid_host+endpoint, headers=headers, data=payload)\n",
    "ingestiion_taskId_response = response\n",
    "print(response.text + f\"\\nInserting data into the table named {dataSourceName}.\")"
   ]
  },
  {
   "cell_type": "markdown",
   "id": "c1235e99-be72-40b0-b7f9-9e860e4932d7",
   "metadata": {},
   "source": [
    "Extract the `taskId` value from the `taskId_response` variable so that you can reference it later:"
   ]
  },
  {
   "cell_type": "code",
   "execution_count": 10,
   "id": "f578b9b2",
   "metadata": {},
   "outputs": [
    {
     "name": "stdout",
     "output_type": "stream",
     "text": [
      "query-14f2ffc5-9cba-43e5-a3ea-9bcc18f4afe3\n"
     ]
    }
   ],
   "source": [
    "ingestion_taskId = json.loads(ingestiion_taskId_response.text)['taskId']\n",
    "print(ingestion_taskId)"
   ]
  },
  {
   "cell_type": "markdown",
   "id": "f17892d9-a8c1-43d6-890c-7d68cd792c72",
   "metadata": {},
   "source": [
    "### Get the status of your task\n",
    "\n",
    "The following cell shows you how to get the status of your ingestion.  You can see basic information about your query, such as when it started and whether or not it's finished.\n",
    "\n",
    "In addition to the status, you can retrieve a full report about it if you want using `GET /druid/indexer/v1/task/TASK_ID/reports`. But you won't need that information for this tutorial."
   ]
  },
  {
   "cell_type": "code",
   "execution_count": 96,
   "id": "fdbab6ae",
   "metadata": {},
   "outputs": [
    {
     "name": "stdout",
     "output_type": "stream",
     "text": [
      "http://localhost:8888/druid/indexer/v1/task/query-14f2ffc5-9cba-43e5-a3ea-9bcc18f4afe3/status\n",
      "{\n",
      "    \"task\": \"query-14f2ffc5-9cba-43e5-a3ea-9bcc18f4afe3\",\n",
      "    \"status\": {\n",
      "        \"id\": \"query-14f2ffc5-9cba-43e5-a3ea-9bcc18f4afe3\",\n",
      "        \"groupId\": \"query-14f2ffc5-9cba-43e5-a3ea-9bcc18f4afe3\",\n",
      "        \"type\": \"query_controller\",\n",
      "        \"createdTime\": \"2022-10-25T16:44:19.282Z\",\n",
      "        \"queueInsertionTime\": \"1970-01-01T00:00:00.000Z\",\n",
      "        \"statusCode\": \"SUCCESS\",\n",
      "        \"status\": \"SUCCESS\",\n",
      "        \"runnerStatusCode\": \"WAITING\",\n",
      "        \"duration\": 96474,\n",
      "        \"location\": {\n",
      "            \"host\": \"localhost\",\n",
      "            \"port\": 8100,\n",
      "            \"tlsPort\": -1\n",
      "        },\n",
      "        \"dataSource\": \"wikipedia\",\n",
      "        \"errorMsg\": null\n",
      "    }\n",
      "}\n"
     ]
    }
   ],
   "source": [
    "endpoint = f\"/druid/indexer/v1/task/{ingestion_taskId}/status\"\n",
    "print(druid_host+endpoint)\n",
    "http_method = \"GET\"\n",
    "\n",
    "payload = {}\n",
    "headers = {}\n",
    "\n",
    "response = requests.request(http_method, druid_host+endpoint, headers=headers, data=payload)\n",
    "print(json.dumps(json.loads(response.text), indent=4))"
   ]
  },
  {
   "cell_type": "markdown",
   "id": "3b55af57-9c79-4e45-a22c-438c1b94112e",
   "metadata": {},
   "source": [
    "## Query your data\n",
    "\n",
    "When you ingest data into Druid, Druid stores the data in a datasource, and this datasource is what you run queries against.\n",
    "\n",
    "### List your datasources\n",
    "\n",
    "You can get a list of datasources from the `/druid/coordinator/v1/datasources` endpoint. Since you're just getting started, there should only be a single datasource, the `wikipedia-api` table you created earlier when you ingested external data."
   ]
  },
  {
   "cell_type": "code",
   "execution_count": 15,
   "id": "959e3c9b",
   "metadata": {},
   "outputs": [
    {
     "name": "stdout",
     "output_type": "stream",
     "text": [
      "http://localhost:8888/druid/coordinator/v1/datasources\n",
      "[\"wikipedia\"]\n"
     ]
    }
   ],
   "source": [
    "endpoint = \"/druid/coordinator/v1/datasources\"\n",
    "print(druid_host+endpoint)\n",
    "http_method = \"GET\"\n",
    "\n",
    "payload = {}\n",
    "headers = {}\n",
    "\n",
    "response = requests.request(http_method, druid_host+endpoint, headers=headers, data=payload)\n",
    "print(response.text)"
   ]
  },
  {
   "cell_type": "markdown",
   "id": "622f2158-75c9-4b12-bd8a-c92d30994c1f",
   "metadata": {},
   "source": [
    "### Query your data\n",
    "\n",
    "Now, you can query the data. Because this tutorial is running in Jupyter, make sure to limit the size of your query results using `LIMIT`. For example, the following cell selects all columns but limits the results to 3 rows for display purposes.\n"
   ]
  },
  {
   "cell_type": "code",
   "execution_count": 217,
   "id": "694900d0-891f-41bd-9b45-5ae957385244",
   "metadata": {},
   "outputs": [
    {
     "name": "stdout",
     "output_type": "stream",
     "text": [
      "http://localhost:8888/druid/v2/sql\n",
      "[\n",
      "    {\n",
      "        \"__time\": \"2016-06-27T00:00:11.080Z\",\n",
      "        \"added\": 31,\n",
      "        \"channel\": \"#sv.wikipedia\",\n",
      "        \"cityName\": \"\",\n",
      "        \"comment\": \"Botskapande Indonesien omdirigering\",\n",
      "        \"commentLength\": 35,\n",
      "        \"countryIsoCode\": \"\",\n",
      "        \"countryName\": \"\",\n",
      "        \"deleted\": 0,\n",
      "        \"delta\": 31,\n",
      "        \"deltaBucket\": \"0.0\",\n",
      "        \"diffUrl\": \"https://sv.wikipedia.org/w/index.php?oldid=36099284&rcid=89369918\",\n",
      "        \"flags\": \"NB\",\n",
      "        \"isAnonymous\": \"false\",\n",
      "        \"isMinor\": \"false\",\n",
      "        \"isNew\": \"true\",\n",
      "        \"isRobot\": \"true\",\n",
      "        \"isUnpatrolled\": \"false\",\n",
      "        \"metroCode\": \"\",\n",
      "        \"namespace\": \"Main\",\n",
      "        \"page\": \"Salo Toraut\",\n",
      "        \"regionIsoCode\": \"\",\n",
      "        \"regionName\": \"\",\n",
      "        \"timestamp\": \"2016-06-27T00:00:11.080Z\",\n",
      "        \"user\": \"Lsjbot\",\n",
      "        \"diffdruid_host\": \"\"\n",
      "    },\n",
      "    {\n",
      "        \"__time\": \"2016-06-27T00:00:17.457Z\",\n",
      "        \"added\": 125,\n",
      "        \"channel\": \"#ja.wikipedia\",\n",
      "        \"cityName\": \"\",\n",
      "        \"comment\": \"70\\u5e74\\u4ee3\",\n",
      "        \"commentLength\": 4,\n",
      "        \"countryIsoCode\": \"\",\n",
      "        \"countryName\": \"\",\n",
      "        \"deleted\": 0,\n",
      "        \"delta\": 125,\n",
      "        \"deltaBucket\": \"100.0\",\n",
      "        \"diffUrl\": \"https://ja.wikipedia.org/w/index.php?diff=60239890&oldid=60239620\",\n",
      "        \"flags\": \"\",\n",
      "        \"isAnonymous\": \"false\",\n",
      "        \"isMinor\": \"false\",\n",
      "        \"isNew\": \"false\",\n",
      "        \"isRobot\": \"false\",\n",
      "        \"isUnpatrolled\": \"false\",\n",
      "        \"metroCode\": \"\",\n",
      "        \"namespace\": \"\\u5229\\u7528\\u8005\",\n",
      "        \"page\": \"\\u5229\\u7528\\u8005:\\u30ef\\u30fc\\u30ca\\u30fc\\u6210\\u5897/\\u653e\\u9001\\u30a6\\u30fc\\u30de\\u30f3\\u8cde\",\n",
      "        \"regionIsoCode\": \"\",\n",
      "        \"regionName\": \"\",\n",
      "        \"timestamp\": \"2016-06-27T00:00:17.457Z\",\n",
      "        \"user\": \"\\u30ef\\u30fc\\u30ca\\u30fc\\u6210\\u5897\",\n",
      "        \"diffdruid_host\": \"\"\n",
      "    },\n",
      "    {\n",
      "        \"__time\": \"2016-06-27T00:00:34.959Z\",\n",
      "        \"added\": 2,\n",
      "        \"channel\": \"#en.wikipedia\",\n",
      "        \"cityName\": \"Buenos Aires\",\n",
      "        \"comment\": \"/* Scores */\",\n",
      "        \"commentLength\": 12,\n",
      "        \"countryIsoCode\": \"AR\",\n",
      "        \"countryName\": \"Argentina\",\n",
      "        \"deleted\": 0,\n",
      "        \"delta\": 2,\n",
      "        \"deltaBucket\": \"0.0\",\n",
      "        \"diffUrl\": \"https://en.wikipedia.org/w/index.php?diff=727144213&oldid=727144184\",\n",
      "        \"flags\": \"\",\n",
      "        \"isAnonymous\": \"true\",\n",
      "        \"isMinor\": \"false\",\n",
      "        \"isNew\": \"false\",\n",
      "        \"isRobot\": \"false\",\n",
      "        \"isUnpatrolled\": \"false\",\n",
      "        \"metroCode\": \"\",\n",
      "        \"namespace\": \"Main\",\n",
      "        \"page\": \"Bailando 2015\",\n",
      "        \"regionIsoCode\": \"C\",\n",
      "        \"regionName\": \"Buenos Aires F.D.\",\n",
      "        \"timestamp\": \"2016-06-27T00:00:34.959Z\",\n",
      "        \"user\": \"181.230.118.178\",\n",
      "        \"diffdruid_host\": \"\"\n",
      "    }\n",
      "]\n"
     ]
    }
   ],
   "source": [
    "endpoint = \"/druid/v2/sql\"\n",
    "print(druid_host+endpoint)\n",
    "http_method = \"POST\"\n",
    "\n",
    "payload = json.dumps({\n",
    "  \"query\": \"SELECT  * FROM wikipedia-api LIMIT 3\"\n",
    "})\n",
    "headers = {'Content-Type': 'application/json'}\n",
    "\n",
    "response = requests.request(http_method, druid_host+endpoint, headers=headers, data=payload)\n",
    "\n",
    "print(json.dumps(json.loads(response.text), indent=4))\n",
    "\n"
   ]
  },
  {
   "cell_type": "markdown",
   "id": "950b2cc4-9935-497d-a3f5-e89afcc85965",
   "metadata": {},
   "source": [
    "In addition to the query, there are a few additional things you can define within the payload. For a full list, see [Druid SQL API](https://druid.apache.org/docs/latest/querying/sql-api.html)\n",
    "\n",
    "This tutorial uses a context parameter and a dynamic parameter.\n",
    "\n",
    "Context parameters can control certain characteristics related to a query, such as configuring a custom timeout. For information, see [Context parameters](https://druid.apache.org/docs/latest/querying/query-context.html). In the example query that follows, the context block assigns a custom `sqlQueryID` to the query. Typically, the `sqlQueryId` is autogenerated. With a custom ID, you can use it to reference the query more easily like when you need to cancel a query.\n",
    "\n",
    "\n",
    "Druid supports dynamic parameters, so you can either define certain parameters within the query explicitly or insert a `?` as a placeholder and define it in a parameters block. In the following cell, the `?` gets bound to the timestmap value of `2016-06-27` at execution time. For more information, see [Dynamic parameters](https://druid.apache.org/docs/latest/querying/sql.html#dynamic-parameters).\n",
    "\n",
    "\n",
    "The following cell selects rows where the `__time` column contains a value greater than the value defined dynamically in `parameters` and sets a custom `sqlQueryId`."
   ]
  },
  {
   "cell_type": "code",
   "execution_count": 105,
   "id": "c3860d64-fba6-43bc-80e2-404f5b3b9baa",
   "metadata": {},
   "outputs": [
    {
     "name": "stdout",
     "output_type": "stream",
     "text": [
      "http://localhost:8888/druid/v2/sql\n",
      "[\n",
      "    {\n",
      "        \"__time\": \"2016-06-27T00:00:11.080Z\",\n",
      "        \"added\": 31,\n",
      "        \"channel\": \"#sv.wikipedia\",\n",
      "        \"cityName\": \"\",\n",
      "        \"comment\": \"Botskapande Indonesien omdirigering\",\n",
      "        \"commentLength\": 35,\n",
      "        \"countryIsoCode\": \"\",\n",
      "        \"countryName\": \"\",\n",
      "        \"deleted\": 0,\n",
      "        \"delta\": 31,\n",
      "        \"deltaBucket\": \"0.0\",\n",
      "        \"diffUrl\": \"https://sv.wikipedia.org/w/index.php?oldid=36099284&rcid=89369918\",\n",
      "        \"flags\": \"NB\",\n",
      "        \"isAnonymous\": \"false\",\n",
      "        \"isMinor\": \"false\",\n",
      "        \"isNew\": \"true\",\n",
      "        \"isRobot\": \"true\",\n",
      "        \"isUnpatrolled\": \"false\",\n",
      "        \"metroCode\": \"\",\n",
      "        \"namespace\": \"Main\",\n",
      "        \"page\": \"Salo Toraut\",\n",
      "        \"regionIsoCode\": \"\",\n",
      "        \"regionName\": \"\",\n",
      "        \"timestamp\": \"2016-06-27T00:00:11.080Z\",\n",
      "        \"user\": \"Lsjbot\",\n",
      "        \"diffdruid_host\": \"\"\n",
      "    }\n",
      "]\n"
     ]
    }
   ],
   "source": [
    "endpoint = \"/druid/v2/sql\"\n",
    "print(druid_host+endpoint)\n",
    "http_method = \"POST\"\n",
    "\n",
    "payload = json.dumps({\n",
    "  \"query\": \"SELECT * FROM wikipedia-api WHERE __time > ? LIMIT 1\",\n",
    "  \"context\": {\n",
    "    \"sqlQueryId\" : \"important-query\" \n",
    "    },\n",
    "  \"parameters\": [\n",
    "    { \"type\": \"TIMESTAMP\", \"value\": \"2016-06-27\"}\n",
    "  ]\n",
    "})\n",
    "headers = {'Content-Type': 'application/json'}\n",
    "\n",
    "response = requests.request(http_method, druid_host+endpoint, headers=headers, data=payload)\n",
    "print(json.dumps(json.loads(response.text), indent=4))"
   ]
  },
  {
   "cell_type": "markdown",
   "id": "71650437-f3a0-4458-8ea9-c759f5a950b4",
   "metadata": {},
   "source": [
    "## Manage your data\n",
    "\n",
    "Besides running queries against data you ingest, you can also retrieve information related to your datasouce or manage its lifecycle. There's a lot you can do, so this tutorial will explore somee basics around segments. Druid stores its data and indexes in segments partitioned by time. \n",
    "\n",
    "### Segment metadata\n",
    "\n",
    "To retrieve a list of segments for your datasource, use the `druid/coordinator/v1/metadata/segments` endpoint with your `?datasources=YOUR_DATASOURCE` appended to the end:\n",
    "\n",
    "```HTTP\n",
    "druid/coordinator/v1/metadata/segments?datasources=YOUR_DATASOURCE\n",
    "```\n",
    "\n",
    "\n",
    "You can include multiple datasources by appending `&?datasources=YOUR_DATASOURCE` for each additional datasource. Alternatively, you can omit it, and get all segments for all datasources. You can modify the information you get by changing the path. For more information about working with segments using the API, see [Metadata store information](https://druid.apache.org/docs/latest/operations/api-reference.html#metadata-store-information).\n",
    "\n",
    "For a higher level view, you can also retrieve the total number of segments for a datasource like in the following cell. Learning more about segments lets you do things such as marking certain segments unused if you're not interested in referencing that data and want to delete it (either manually or automatically by setting rules).\n"
   ]
  },
  {
   "cell_type": "code",
   "execution_count": 155,
   "id": "1e686272-6b0b-432d-93b6-bb3d9020e447",
   "metadata": {},
   "outputs": [
    {
     "name": "stdout",
     "output_type": "stream",
     "text": [
      "http://localhost:8888/druid/coordinator/v1/datasources/wikipedia/intervals?simple\n",
      "{\n",
      "    \"2016-06-27T00:00:00.000Z/2016-06-28T00:00:00.000Z\": {\n",
      "        \"size\": 70040079,\n",
      "        \"count\": 11\n",
      "    }\n",
      "}\n"
     ]
    }
   ],
   "source": [
    "endpoint = f\"/druid/coordinator/v1/datasources/{dataSourceName}/intervals?simple\"\n",
    "print(druid_host+endpoint)\n",
    "http_method = \"GET\"\n",
    "\n",
    "payload = {}\n",
    "headers = {'Content-Type': 'application/json'}\n",
    "\n",
    "response = requests.request(http_method, druid_host+endpoint, headers=headers, data=payload)\n",
    "print(json.dumps(json.loads(response.text), indent=4))"
   ]
  },
  {
   "cell_type": "markdown",
   "id": "842da7a1-c761-44ad-b94b-7674939a61a0",
   "metadata": {},
   "source": [
    "Now that you know that there are 11 total segments, you can see a full list of them "
   ]
  },
  {
   "cell_type": "code",
   "execution_count": 165,
   "id": "2ca867e9-bfce-412b-ba1b-166c93892b36",
   "metadata": {},
   "outputs": [
    {
     "name": "stdout",
     "output_type": "stream",
     "text": [
      "http://localhost:8888/druid/coordinator/v1/metadata/segments\n",
      "[\n",
      "    {\n",
      "        \"dataSource\": \"wikipedia\",\n",
      "        \"interval\": \"2016-06-27T00:00:00.000Z/2016-06-28T00:00:00.000Z\",\n",
      "        \"version\": \"2022-10-24T19:45:23.151Z\",\n",
      "        \"loadSpec\": {\n",
      "            \"type\": \"local\",\n",
      "            \"path\": \"/Users/brian/apache-druid-24.0.0/var/druid/segments/wikipedia/2016-06-27T00:00:00.000Z_2016-06-28T00:00:00.000Z/2022-10-24T19:45:23.151Z/0/index.zip\"\n",
      "        },\n",
      "        \"dimensions\": \"added,channel,cityName,comment,commentLength,countryIsoCode,countryName,deleted,delta,deltaBucket,diffUrl,flags,isAnonymous,isMinor,isNew,isRobot,isUnpatrolled,metroCode,namespace,page,regionIsoCode,regionName,timestamp,user\",\n",
      "        \"metrics\": \"\",\n",
      "        \"shardSpec\": {\n",
      "            \"type\": \"numbered\",\n",
      "            \"partitionNum\": 0,\n",
      "            \"partitions\": 0\n",
      "        },\n",
      "        \"binaryVersion\": 9,\n",
      "        \"size\": 8017416,\n",
      "        \"identifier\": \"wikipedia_2016-06-27T00:00:00.000Z_2016-06-28T00:00:00.000Z_2022-10-24T19:45:23.151Z\"\n",
      "    },\n",
      "    {\n",
      "        \"dataSource\": \"wikipedia\",\n",
      "        \"interval\": \"2016-06-27T00:00:00.000Z/2016-06-28T00:00:00.000Z\",\n",
      "        \"version\": \"2022-10-24T19:45:23.151Z\",\n",
      "        \"loadSpec\": {\n",
      "            \"type\": \"local\",\n",
      "            \"path\": \"/Users/brian/apache-druid-24.0.0/var/druid/segments/wikipedia/2016-06-27T00:00:00.000Z_2016-06-28T00:00:00.000Z/2022-10-24T19:45:23.151Z/1/index.zip\"\n",
      "        },\n",
      "        \"dimensions\": \"added,channel,cityName,comment,commentLength,countryIsoCode,countryName,deleted,delta,deltaBucket,diffUrl,flags,isAnonymous,isMinor,isNew,isRobot,isUnpatrolled,metroCode,namespace,page,regionIsoCode,regionName,timestamp,user\",\n",
      "        \"metrics\": \"\",\n",
      "        \"shardSpec\": {\n",
      "            \"type\": \"numbered\",\n",
      "            \"partitionNum\": 1,\n",
      "            \"partitions\": 0\n",
      "        },\n",
      "        \"binaryVersion\": 9,\n",
      "        \"size\": 8017416,\n",
      "        \"identifier\": \"wikipedia_2016-06-27T00:00:00.000Z_2016-06-28T00:00:00.000Z_2022-10-24T19:45:23.151Z_1\"\n",
      "    },\n",
      "    {\n",
      "        \"dataSource\": \"wikipedia\",\n",
      "        \"interval\": \"2016-06-27T00:00:00.000Z/2016-06-28T00:00:00.000Z\",\n",
      "        \"version\": \"2022-10-24T19:45:23.151Z\",\n",
      "        \"loadSpec\": {\n",
      "            \"type\": \"local\",\n",
      "            \"path\": \"/Users/brian/apache-druid-24.0.0/var/druid/segments/wikipedia/2016-06-27T00:00:00.000Z_2016-06-28T00:00:00.000Z/2022-10-24T19:45:23.151Z/2/index.zip\"\n",
      "        },\n",
      "        \"dimensions\": \"added,channel,cityName,comment,commentLength,countryIsoCode,countryName,deleted,delta,deltaBucket,diffUrl,flags,isAnonymous,isMinor,isNew,isRobot,isUnpatrolled,metroCode,namespace,page,regionIsoCode,regionName,timestamp,user\",\n",
      "        \"metrics\": \"\",\n",
      "        \"shardSpec\": {\n",
      "            \"type\": \"numbered\",\n",
      "            \"partitionNum\": 2,\n",
      "            \"partitions\": 0\n",
      "        },\n",
      "        \"binaryVersion\": 9,\n",
      "        \"size\": 8017416,\n",
      "        \"identifier\": \"wikipedia_2016-06-27T00:00:00.000Z_2016-06-28T00:00:00.000Z_2022-10-24T19:45:23.151Z_2\"\n",
      "    },\n",
      "    {\n",
      "        \"dataSource\": \"wikipedia\",\n",
      "        \"interval\": \"2016-06-27T00:00:00.000Z/2016-06-28T00:00:00.000Z\",\n",
      "        \"version\": \"2022-10-24T19:45:23.151Z\",\n",
      "        \"loadSpec\": {\n",
      "            \"type\": \"local\",\n",
      "            \"path\": \"/Users/brian/apache-druid-24.0.0/var/druid/segments/wikipedia/2016-06-27T00:00:00.000Z_2016-06-28T00:00:00.000Z/2022-10-24T19:45:23.151Z/3/index.zip\"\n",
      "        },\n",
      "        \"dimensions\": \"added,channel,cityName,comment,commentLength,countryIsoCode,countryName,deleted,delta,deltaBucket,diffUrl,flags,isAnonymous,isMinor,isNew,isRobot,isUnpatrolled,metroCode,namespace,page,regionIsoCode,regionName,timestamp,user\",\n",
      "        \"metrics\": \"\",\n",
      "        \"shardSpec\": {\n",
      "            \"type\": \"numbered\",\n",
      "            \"partitionNum\": 3,\n",
      "            \"partitions\": 0\n",
      "        },\n",
      "        \"binaryVersion\": 9,\n",
      "        \"size\": 8017416,\n",
      "        \"identifier\": \"wikipedia_2016-06-27T00:00:00.000Z_2016-06-28T00:00:00.000Z_2022-10-24T19:45:23.151Z_3\"\n",
      "    },\n",
      "    {\n",
      "        \"dataSource\": \"wikipedia\",\n",
      "        \"interval\": \"2016-06-27T00:00:00.000Z/2016-06-28T00:00:00.000Z\",\n",
      "        \"version\": \"2022-10-24T19:45:23.151Z\",\n",
      "        \"loadSpec\": {\n",
      "            \"type\": \"local\",\n",
      "            \"path\": \"/Users/brian/apache-druid-24.0.0/var/druid/segments/wikipedia/2016-06-27T00:00:00.000Z_2016-06-28T00:00:00.000Z/2022-10-24T19:45:23.151Z/4/index.zip\"\n",
      "        },\n",
      "        \"dimensions\": \"added,channel,cityName,comment,commentLength,countryIsoCode,countryName,deleted,delta,deltaBucket,diffdruid_host,flags,isAnonymous,isMinor,isNew,isRobot,isUnpatrolled,metroCode,namespace,page,regionIsoCode,regionName,timestamp,user\",\n",
      "        \"metrics\": \"\",\n",
      "        \"shardSpec\": {\n",
      "            \"type\": \"numbered\",\n",
      "            \"partitionNum\": 4,\n",
      "            \"partitions\": 0\n",
      "        },\n",
      "        \"binaryVersion\": 9,\n",
      "        \"size\": 5424345,\n",
      "        \"identifier\": \"wikipedia_2016-06-27T00:00:00.000Z_2016-06-28T00:00:00.000Z_2022-10-24T19:45:23.151Z_4\"\n",
      "    },\n",
      "    {\n",
      "        \"dataSource\": \"wikipedia\",\n",
      "        \"interval\": \"2016-06-27T00:00:00.000Z/2016-06-28T00:00:00.000Z\",\n",
      "        \"version\": \"2022-10-24T19:45:23.151Z\",\n",
      "        \"loadSpec\": {\n",
      "            \"type\": \"local\",\n",
      "            \"path\": \"/Users/brian/apache-druid-24.0.0/var/druid/segments/wikipedia/2016-06-27T00:00:00.000Z_2016-06-28T00:00:00.000Z/2022-10-24T19:45:23.151Z/5/index.zip\"\n",
      "        },\n",
      "        \"dimensions\": \"added,channel,cityName,comment,commentLength,countryIsoCode,countryName,deleted,delta,deltaBucket,diffdruid_host,flags,isAnonymous,isMinor,isNew,isRobot,isUnpatrolled,metroCode,namespace,page,regionIsoCode,regionName,timestamp,user\",\n",
      "        \"metrics\": \"\",\n",
      "        \"shardSpec\": {\n",
      "            \"type\": \"numbered\",\n",
      "            \"partitionNum\": 5,\n",
      "            \"partitions\": 0\n",
      "        },\n",
      "        \"binaryVersion\": 9,\n",
      "        \"size\": 5424345,\n",
      "        \"identifier\": \"wikipedia_2016-06-27T00:00:00.000Z_2016-06-28T00:00:00.000Z_2022-10-24T19:45:23.151Z_5\"\n",
      "    },\n",
      "    {\n",
      "        \"dataSource\": \"wikipedia\",\n",
      "        \"interval\": \"2016-06-27T00:00:00.000Z/2016-06-28T00:00:00.000Z\",\n",
      "        \"version\": \"2022-10-24T19:45:23.151Z\",\n",
      "        \"loadSpec\": {\n",
      "            \"type\": \"local\",\n",
      "            \"path\": \"/Users/brian/apache-druid-24.0.0/var/druid/segments/wikipedia/2016-06-27T00:00:00.000Z_2016-06-28T00:00:00.000Z/2022-10-24T19:45:23.151Z/6/index.zip\"\n",
      "        },\n",
      "        \"dimensions\": \"added,channel,cityName,comment,commentLength,countryIsoCode,countryName,deleted,delta,deltaBucket,diffdruid_host,flags,isAnonymous,isMinor,isNew,isRobot,isUnpatrolled,metroCode,namespace,page,regionIsoCode,regionName,timestamp,user\",\n",
      "        \"metrics\": \"\",\n",
      "        \"shardSpec\": {\n",
      "            \"type\": \"numbered\",\n",
      "            \"partitionNum\": 6,\n",
      "            \"partitions\": 0\n",
      "        },\n",
      "        \"binaryVersion\": 9,\n",
      "        \"size\": 5424345,\n",
      "        \"identifier\": \"wikipedia_2016-06-27T00:00:00.000Z_2016-06-28T00:00:00.000Z_2022-10-24T19:45:23.151Z_6\"\n",
      "    },\n",
      "    {\n",
      "        \"dataSource\": \"wikipedia\",\n",
      "        \"interval\": \"2016-06-27T00:00:00.000Z/2016-06-28T00:00:00.000Z\",\n",
      "        \"version\": \"2022-10-24T19:45:23.151Z\",\n",
      "        \"loadSpec\": {\n",
      "            \"type\": \"local\",\n",
      "            \"path\": \"/Users/brian/apache-druid-24.0.0/var/druid/segments/wikipedia/2016-06-27T00:00:00.000Z_2016-06-28T00:00:00.000Z/2022-10-24T19:45:23.151Z/7/index.zip\"\n",
      "        },\n",
      "        \"dimensions\": \"added,channel,cityName,comment,commentLength,countryIsoCode,countryName,deleted,delta,deltaBucket,diffdruid_host,flags,isAnonymous,isMinor,isNew,isRobot,isUnpatrolled,metroCode,namespace,page,regionIsoCode,regionName,timestamp,user\",\n",
      "        \"metrics\": \"\",\n",
      "        \"shardSpec\": {\n",
      "            \"type\": \"numbered\",\n",
      "            \"partitionNum\": 7,\n",
      "            \"partitions\": 0\n",
      "        },\n",
      "        \"binaryVersion\": 9,\n",
      "        \"size\": 5424345,\n",
      "        \"identifier\": \"wikipedia_2016-06-27T00:00:00.000Z_2016-06-28T00:00:00.000Z_2022-10-24T19:45:23.151Z_7\"\n",
      "    },\n",
      "    {\n",
      "        \"dataSource\": \"wikipedia\",\n",
      "        \"interval\": \"2016-06-27T00:00:00.000Z/2016-06-28T00:00:00.000Z\",\n",
      "        \"version\": \"2022-10-24T19:45:23.151Z\",\n",
      "        \"loadSpec\": {\n",
      "            \"type\": \"local\",\n",
      "            \"path\": \"/Users/brian/apache-druid-24.0.0/var/druid/segments/wikipedia/2016-06-27T00:00:00.000Z_2016-06-28T00:00:00.000Z/2022-10-24T19:45:23.151Z/8/index.zip\"\n",
      "        },\n",
      "        \"dimensions\": \"added,channel,cityName,comment,commentLength,countryIsoCode,countryName,deleted,delta,deltaBucket,diffdruid_host,flags,isAnonymous,isMinor,isNew,isRobot,isUnpatrolled,metroCode,namespace,page,regionIsoCode,regionName,timestamp,user\",\n",
      "        \"metrics\": \"\",\n",
      "        \"shardSpec\": {\n",
      "            \"type\": \"numbered\",\n",
      "            \"partitionNum\": 8,\n",
      "            \"partitions\": 0\n",
      "        },\n",
      "        \"binaryVersion\": 9,\n",
      "        \"size\": 5424345,\n",
      "        \"identifier\": \"wikipedia_2016-06-27T00:00:00.000Z_2016-06-28T00:00:00.000Z_2022-10-24T19:45:23.151Z_8\"\n",
      "    },\n",
      "    {\n",
      "        \"dataSource\": \"wikipedia\",\n",
      "        \"interval\": \"2016-06-27T00:00:00.000Z/2016-06-28T00:00:00.000Z\",\n",
      "        \"version\": \"2022-10-24T19:45:23.151Z\",\n",
      "        \"loadSpec\": {\n",
      "            \"type\": \"local\",\n",
      "            \"path\": \"/Users/brian/apache-druid-24.0.0/var/druid/segments/wikipedia/2016-06-27T00:00:00.000Z_2016-06-28T00:00:00.000Z/2022-10-24T19:45:23.151Z/9/index.zip\"\n",
      "        },\n",
      "        \"dimensions\": \"added,channel,cityName,comment,commentLength,countryIsoCode,countryName,deleted,delta,deltaBucket,diffdruid_host,flags,isAnonymous,isMinor,isNew,isRobot,isUnpatrolled,metroCode,namespace,page,regionIsoCode,regionName,timestamp,user\",\n",
      "        \"metrics\": \"\",\n",
      "        \"shardSpec\": {\n",
      "            \"type\": \"numbered\",\n",
      "            \"partitionNum\": 9,\n",
      "            \"partitions\": 0\n",
      "        },\n",
      "        \"binaryVersion\": 9,\n",
      "        \"size\": 5424345,\n",
      "        \"identifier\": \"wikipedia_2016-06-27T00:00:00.000Z_2016-06-28T00:00:00.000Z_2022-10-24T19:45:23.151Z_9\"\n",
      "    }\n",
      "]\n"
     ]
    }
   ],
   "source": [
    "endpoint = f\"/druid/coordinator/v1/metadata/segments\"\n",
    "print(druid_host+endpoint)\n",
    "http_method = \"GET\"\n",
    "\n",
    "payload = {}\n",
    "headers = {'Content-Type': 'application/json'}\n",
    "\n",
    "response = requests.request(http_method, druid_host+endpoint, headers=headers, data=payload)\n",
    "print(json.dumps(json.loads(response.text), indent=4))"
   ]
  },
  {
   "cell_type": "markdown",
   "id": "d8c33df3-5e5f-40f3-9c0f-fbefb5fe0772",
   "metadata": {},
   "source": [
    "### Mark a segment unused\n",
    "\n",
    "> For a complete tutorial on marking data as unused and deleting it, see [Tutorial](https://druid.apache.org/docs/latest/tutorials/tutorial-delete-data.html).\n",
    "\n",
    "The first step to deleting data is to mark it unused. To mark a specific segment unused, you need the segment IDs from the `identifier` field or the time intervals from the `interval` field. The following example marks one segment as unused by specifying the segment ID. The response confirms that by returning the fact that 1 segment has changed. \n",
    "\n",
    "Make sure you update the following cell to specify a segment you want to delete by providing the following:\n",
    "\n",
    "- the segment ID for `segment_to_delete` \n",
    "- the interval for `interval_to_delete`"
   ]
  },
  {
   "cell_type": "code",
   "execution_count": 216,
   "id": "d4423941-bd78-4698-97d3-78b6c8dc434b",
   "metadata": {},
   "outputs": [
    {
     "name": "stdout",
     "output_type": "stream",
     "text": [
      "http://localhost:8888/druid/coordinator/v1/datasources/wikipedia/markUnused\n",
      "{\"numChangedSegments\":0}\n"
     ]
    }
   ],
   "source": [
    "endpoint = f\"/druid/coordinator/v1/datasources/{dataSourceName}/markUnused\"\n",
    "print(druid_host+endpoint)\n",
    "http_method = \"POST\"\n",
    "# Set this to the segmentID that you want to delete\n",
    "segment_to_delete = \"wikipedia-api_2016-06-27T00:00:00.000Z_2016-06-28T00:00:00.000Z_2022-10-24T19:45:23.151Z_10\"\n",
    "# Set this to the interval represented by the segmentID\n",
    "interval_to_delete = \"2016-06-27T00:00:00.000Z/2016-06-28T00:00:00.000Z\"\n",
    "\n",
    "# Provide the segment ID as a comma separated list\n",
    "payload = json.dumps({\"segmentIds\": [f\"{segment_to_delete}\"]})\n",
    "headers = {'Content-Type': 'application/json'}\n",
    "\n",
    "response = requests.request(http_method, druid_host+endpoint, headers=headers, data=payload)\n",
    "print(response.text)"
   ]
  },
  {
   "cell_type": "markdown",
   "id": "c36a0162-c006-42ac-8611-cec1a76af9d6",
   "metadata": {},
   "source": [
    "### Mark a segment as used\n",
    "\n",
    "The following example marks a segment as used and makes its data available again. It's identical to marking a segment as unused except for the last part of the endpoint."
   ]
  },
  {
   "cell_type": "code",
   "execution_count": 211,
   "id": "5906ae8e-72c9-4aa6-8442-1ffbab3dfaeb",
   "metadata": {},
   "outputs": [
    {
     "name": "stdout",
     "output_type": "stream",
     "text": [
      "http://localhost:8888/druid/coordinator/v1/datasources/wikipedia/markUsed\n",
      "{\"message\":\"Cannot find segment ids [wikipedia_2016-06-27T00:00:00.000Z_2016-06-28T00:00:00.000Z_2022-10-24T19:45:23.151Z_10]\"}\n"
     ]
    }
   ],
   "source": [
    "endpoint = f\"/druid/coordinator/v1/datasources/{dataSourceName}/markUsed\"\n",
    "print(druid_host+endpoint)\n",
    "http_method = \"POST\"\n",
    "\n",
    "# Provide the segment ID as a comma separated list\n",
    "payload = json.dumps({\"segmentIds\": [f\"{segment_to_delete}\"]})\n",
    "headers = {'Content-Type': 'application/json'}\n",
    "\n",
    "response = requests.request(http_method, druid_host+endpoint, headers=headers, data=payload)\n",
    "print(response.text)"
   ]
  },
  {
   "cell_type": "markdown",
   "id": "28c86d6a-2ef5-4b12-835d-78613924824f",
   "metadata": {},
   "source": [
    "### Verify segment is unused\n",
    "\n",
    "You can confirm that the segment isn't available anymore by rerunning the cell referenced in [Segment metadata](#Segment-metadata). You'll notice that the segment count has decreased by one. Alternatively, you can retrieve the information for that specific segment.\n",
    "\n",
    "\n",
    "The following cell returns a 404 if the segment is unused or unknown, so you should only see the print statement with the endpoint. Try it after marking a cell as unused by rerunning [Mark a segment unused](#Mark-a-segment-unused).\n"
   ]
  },
  {
   "cell_type": "code",
   "execution_count": 210,
   "id": "87e435f6-59a4-4dce-b496-dd0a824ea7be",
   "metadata": {},
   "outputs": [
    {
     "name": "stdout",
     "output_type": "stream",
     "text": [
      "http://localhost:8888/druid/coordinator/v1/metadata/datasources/wikipedia/segments/wikipedia_2016-06-27T00:00:00.000Z_2016-06-28T00:00:00.000Z_2022-10-24T19:45:23.151Z_10\n",
      "\n"
     ]
    }
   ],
   "source": [
    "endpoint = f\"/druid/coordinator/v1/metadata/datasources/{dataSourceName}/segments/wikipedia-api_2016-06-27T00:00:00.000Z_2016-06-28T00:00:00.000Z_2022-10-24T19:45:23.151Z_10\"\n",
    "print(druid_host+endpoint)\n",
    "http_method = \"GET\"\n",
    "\n",
    "payload = {}\n",
    "headers = {'Content-Type': 'application/json'}\n",
    "\n",
    "response = requests.request(http_method, druid_host+endpoint, headers=headers, data=payload)\n",
    "print(response.text)"
   ]
  },
  {
   "cell_type": "markdown",
   "id": "138f5a43-0d5d-45ec-b539-83abc624c4f9",
   "metadata": {},
   "source": [
    "### Delete data permanently\n",
    "\n",
    "Now that a segment is marked as unused, you can delete delete just that specific segment from your datasource by running a kill task. If you want to delete a datasource completely, you'd use `DELETE /druid/coordinator/v1/datasources/{dataSourceName}`.\n",
    "\n",
    "The following cell deletes the segment you marked as unused earlier and returns the taskID for the kill task."
   ]
  },
  {
   "cell_type": "code",
   "execution_count": 213,
   "id": "891dba19-6942-4394-8f76-62b382e9eec1",
   "metadata": {},
   "outputs": [
    {
     "name": "stdout",
     "output_type": "stream",
     "text": [
      "http://localhost:8888/druid/indexer/v1/task\n",
      "{\"task\":\"kill_wikipedia_jbpndpif_2016-06-27T00:00:00.000Z_2016-06-28T00:00:00.000Z_2022-10-26T19:50:18.673Z\"}\n"
     ]
    }
   ],
   "source": [
    "endpoint = f\"/druid/indexer/v1/task\"\n",
    "print(druid_host+endpoint)\n",
    "http_method = \"POST\"\n",
    "\n",
    "payload = json.dumps({\n",
    "  \"type\": \"kill\",\n",
    "  \"dataSource\": \"wikipedia-api\",\n",
    "  \"interval\": \"2016-06-27T00:00:00.000Z/2016-06-28T00:00:00.000Z\"\n",
    "})\n",
    "\n",
    "headers = {'Content-Type': 'application/json'}\n",
    "\n",
    "response = requests.request(http_method, druid_host+endpoint, headers=headers, data=payload)\n",
    "print(response.text)"
   ]
  },
  {
   "cell_type": "markdown",
   "id": "867b2387-eab0-42ad-975e-6a69a04d74cf",
   "metadata": {},
   "source": [
    "Now, if you try to [mark the same segment as used](#Mark-a-segment-as-used), you'll get an error message about not being able to find the segment ID. The data contained in the segment has been permanently deleted."
   ]
  },
  {
   "cell_type": "markdown",
   "id": "fd22cb01-ef5e-4870-ad08-5f765e5bb8a6",
   "metadata": {},
   "source": [
    "You can also check the status of the kill task by referncing the task ID."
   ]
  },
  {
   "cell_type": "code",
   "execution_count": 215,
   "id": "cc298749-95cd-482d-a04d-9195f6ade537",
   "metadata": {},
   "outputs": [
    {
     "name": "stdout",
     "output_type": "stream",
     "text": [
      "http://localhost:8888/druid/indexer/v1/task/kill_wikipedia_jbpndpif_2016-06-27T00:00:00.000Z_2016-06-28T00:00:00.000Z_2022-10-26T19:50:18.673Z/status\n",
      "{\n",
      "    \"task\": \"kill_wikipedia_jbpndpif_2016-06-27T00:00:00.000Z_2016-06-28T00:00:00.000Z_2022-10-26T19:50:18.673Z\",\n",
      "    \"status\": {\n",
      "        \"id\": \"kill_wikipedia_jbpndpif_2016-06-27T00:00:00.000Z_2016-06-28T00:00:00.000Z_2022-10-26T19:50:18.673Z\",\n",
      "        \"groupId\": \"kill_wikipedia_jbpndpif_2016-06-27T00:00:00.000Z_2016-06-28T00:00:00.000Z_2022-10-26T19:50:18.673Z\",\n",
      "        \"type\": \"kill\",\n",
      "        \"createdTime\": \"2022-10-26T19:50:18.692Z\",\n",
      "        \"queueInsertionTime\": \"1970-01-01T00:00:00.000Z\",\n",
      "        \"statusCode\": \"SUCCESS\",\n",
      "        \"status\": \"SUCCESS\",\n",
      "        \"runnerStatusCode\": \"WAITING\",\n",
      "        \"duration\": 29441,\n",
      "        \"location\": {\n",
      "            \"host\": \"localhost\",\n",
      "            \"port\": 8100,\n",
      "            \"tlsPort\": -1\n",
      "        },\n",
      "        \"dataSource\": \"wikipedia\",\n",
      "        \"errorMsg\": null\n",
      "    }\n",
      "}\n"
     ]
    }
   ],
   "source": [
    "endpoint = f\"/druid/indexer/v1/task/kill_wikipedia-api_jbpndpif_2016-06-27T00:00:00.000Z_2016-06-28T00:00:00.000Z_2022-10-26T19:50:18.673Z/status\"\n",
    "print(druid_host+endpoint)\n",
    "http_method = \"GET\"\n",
    "\n",
    "payload = {}\n",
    "\n",
    "headers = {'Content-Type': 'application/json'}\n",
    "\n",
    "response = requests.request(http_method, druid_host+endpoint, headers=headers, data=payload)\n",
    "print(json.dumps(json.loads(response.text), indent=4))"
   ]
  },
  {
   "cell_type": "markdown",
   "id": "8fbfa1fa-2cde-46d5-8107-60bd436fb64e",
   "metadata": {},
   "source": [
    "## Next steps\n",
    "\n",
    "This tutorial covers the some of the basics related to the Druid API. To learn more about the kinds of things you can do, see the API documentation:\n",
    "\n",
    "- [Druid SQL API](https://druid.apache.org/docs/latest/querying/sql-api.html)\n",
    "- [API reference](https://druid.apache.org/docs/latest/operations/api-reference.html)\n",
    "\n",
    "You can also try out the [druid-client](https://github.com/paul-rogers/druid-client), a Python library for Druid created by a Druid contributor.\n",
    "\n",
    "\n",
    "\n"
   ]
  }
 ],
 "metadata": {
  "kernelspec": {
   "display_name": "Python 3.9.13 64-bit",
   "language": "python",
   "name": "python3"
  },
  "language_info": {
   "codemirror_mode": {
    "name": "ipython",
    "version": 3
   },
   "file_extension": ".py",
   "mimetype": "text/x-python",
   "name": "python",
   "nbconvert_exporter": "python",
   "pygments_lexer": "ipython3",
   "version": "3.9.13"
  },
  "vscode": {
   "interpreter": {
    "hash": "b0fa6594d8f4cbf19f97940f81e996739fb7646882a419484c72d19e05852a7e"
   }
  }
 },
 "nbformat": 4,
 "nbformat_minor": 5
}
